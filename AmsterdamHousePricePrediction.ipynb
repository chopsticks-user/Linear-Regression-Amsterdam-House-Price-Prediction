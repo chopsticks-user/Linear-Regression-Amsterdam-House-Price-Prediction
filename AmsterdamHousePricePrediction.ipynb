{
 "cells": [
  {
   "cell_type": "code",
   "execution_count": 2,
   "id": "80dc9a65",
   "metadata": {},
   "outputs": [],
   "source": [
    "import numpy as np\n",
    "import pandas as pd\n",
    "import seaborn as sns\n",
    "import matplotlib.pyplot as plt\n",
    "import sklearn\n",
    "from sklearn import linear_model\n",
    "from sklearn.utils import shuffle\n",
    "import pickle"
   ]
  },
  {
   "cell_type": "code",
   "execution_count": 3,
   "id": "366091c7",
   "metadata": {},
   "outputs": [
    {
     "data": {
      "text/html": [
       "<div>\n",
       "<style scoped>\n",
       "    .dataframe tbody tr th:only-of-type {\n",
       "        vertical-align: middle;\n",
       "    }\n",
       "\n",
       "    .dataframe tbody tr th {\n",
       "        vertical-align: top;\n",
       "    }\n",
       "\n",
       "    .dataframe thead th {\n",
       "        text-align: right;\n",
       "    }\n",
       "</style>\n",
       "<table border=\"1\" class=\"dataframe\">\n",
       "  <thead>\n",
       "    <tr style=\"text-align: right;\">\n",
       "      <th></th>\n",
       "      <th>Unnamed: 0</th>\n",
       "      <th>Address</th>\n",
       "      <th>Zip</th>\n",
       "      <th>Price</th>\n",
       "      <th>Area</th>\n",
       "      <th>Room</th>\n",
       "      <th>Lon</th>\n",
       "      <th>Lat</th>\n",
       "    </tr>\n",
       "  </thead>\n",
       "  <tbody>\n",
       "    <tr>\n",
       "      <th>0</th>\n",
       "      <td>1</td>\n",
       "      <td>Blasiusstraat 8 2, Amsterdam</td>\n",
       "      <td>1091 CR</td>\n",
       "      <td>685000.0</td>\n",
       "      <td>64</td>\n",
       "      <td>3</td>\n",
       "      <td>4.907736</td>\n",
       "      <td>52.356157</td>\n",
       "    </tr>\n",
       "    <tr>\n",
       "      <th>1</th>\n",
       "      <td>2</td>\n",
       "      <td>Kromme Leimuidenstraat 13 H, Amsterdam</td>\n",
       "      <td>1059 EL</td>\n",
       "      <td>475000.0</td>\n",
       "      <td>60</td>\n",
       "      <td>3</td>\n",
       "      <td>4.850476</td>\n",
       "      <td>52.348586</td>\n",
       "    </tr>\n",
       "    <tr>\n",
       "      <th>2</th>\n",
       "      <td>3</td>\n",
       "      <td>Zaaiersweg 11 A, Amsterdam</td>\n",
       "      <td>1097 SM</td>\n",
       "      <td>850000.0</td>\n",
       "      <td>109</td>\n",
       "      <td>4</td>\n",
       "      <td>4.944774</td>\n",
       "      <td>52.343782</td>\n",
       "    </tr>\n",
       "    <tr>\n",
       "      <th>3</th>\n",
       "      <td>4</td>\n",
       "      <td>Tenerifestraat 40, Amsterdam</td>\n",
       "      <td>1060 TH</td>\n",
       "      <td>580000.0</td>\n",
       "      <td>128</td>\n",
       "      <td>6</td>\n",
       "      <td>4.789928</td>\n",
       "      <td>52.343712</td>\n",
       "    </tr>\n",
       "    <tr>\n",
       "      <th>4</th>\n",
       "      <td>5</td>\n",
       "      <td>Winterjanpad 21, Amsterdam</td>\n",
       "      <td>1036 KN</td>\n",
       "      <td>720000.0</td>\n",
       "      <td>138</td>\n",
       "      <td>5</td>\n",
       "      <td>4.902503</td>\n",
       "      <td>52.410538</td>\n",
       "    </tr>\n",
       "  </tbody>\n",
       "</table>\n",
       "</div>"
      ],
      "text/plain": [
       "   Unnamed: 0                                 Address      Zip     Price  \\\n",
       "0           1            Blasiusstraat 8 2, Amsterdam  1091 CR  685000.0   \n",
       "1           2  Kromme Leimuidenstraat 13 H, Amsterdam  1059 EL  475000.0   \n",
       "2           3              Zaaiersweg 11 A, Amsterdam  1097 SM  850000.0   \n",
       "3           4            Tenerifestraat 40, Amsterdam  1060 TH  580000.0   \n",
       "4           5              Winterjanpad 21, Amsterdam  1036 KN  720000.0   \n",
       "\n",
       "   Area  Room       Lon        Lat  \n",
       "0    64     3  4.907736  52.356157  \n",
       "1    60     3  4.850476  52.348586  \n",
       "2   109     4  4.944774  52.343782  \n",
       "3   128     6  4.789928  52.343712  \n",
       "4   138     5  4.902503  52.410538  "
      ]
     },
     "execution_count": 3,
     "metadata": {},
     "output_type": "execute_result"
    }
   ],
   "source": [
    "data = pd.read_csv(\"amsterdam.csv\")\n",
    "data.head()"
   ]
  },
  {
   "cell_type": "code",
   "execution_count": 4,
   "id": "7e167f61",
   "metadata": {},
   "outputs": [
    {
     "data": {
      "text/html": [
       "<div>\n",
       "<style scoped>\n",
       "    .dataframe tbody tr th:only-of-type {\n",
       "        vertical-align: middle;\n",
       "    }\n",
       "\n",
       "    .dataframe tbody tr th {\n",
       "        vertical-align: top;\n",
       "    }\n",
       "\n",
       "    .dataframe thead th {\n",
       "        text-align: right;\n",
       "    }\n",
       "</style>\n",
       "<table border=\"1\" class=\"dataframe\">\n",
       "  <thead>\n",
       "    <tr style=\"text-align: right;\">\n",
       "      <th></th>\n",
       "      <th>Area</th>\n",
       "      <th>Room</th>\n",
       "      <th>Lon</th>\n",
       "      <th>Lat</th>\n",
       "      <th>Price</th>\n",
       "    </tr>\n",
       "  </thead>\n",
       "  <tbody>\n",
       "    <tr>\n",
       "      <th>0</th>\n",
       "      <td>64</td>\n",
       "      <td>3</td>\n",
       "      <td>4.907736</td>\n",
       "      <td>52.356157</td>\n",
       "      <td>685000.0</td>\n",
       "    </tr>\n",
       "    <tr>\n",
       "      <th>1</th>\n",
       "      <td>60</td>\n",
       "      <td>3</td>\n",
       "      <td>4.850476</td>\n",
       "      <td>52.348586</td>\n",
       "      <td>475000.0</td>\n",
       "    </tr>\n",
       "    <tr>\n",
       "      <th>2</th>\n",
       "      <td>109</td>\n",
       "      <td>4</td>\n",
       "      <td>4.944774</td>\n",
       "      <td>52.343782</td>\n",
       "      <td>850000.0</td>\n",
       "    </tr>\n",
       "    <tr>\n",
       "      <th>3</th>\n",
       "      <td>128</td>\n",
       "      <td>6</td>\n",
       "      <td>4.789928</td>\n",
       "      <td>52.343712</td>\n",
       "      <td>580000.0</td>\n",
       "    </tr>\n",
       "    <tr>\n",
       "      <th>4</th>\n",
       "      <td>138</td>\n",
       "      <td>5</td>\n",
       "      <td>4.902503</td>\n",
       "      <td>52.410538</td>\n",
       "      <td>720000.0</td>\n",
       "    </tr>\n",
       "  </tbody>\n",
       "</table>\n",
       "</div>"
      ],
      "text/plain": [
       "   Area  Room       Lon        Lat     Price\n",
       "0    64     3  4.907736  52.356157  685000.0\n",
       "1    60     3  4.850476  52.348586  475000.0\n",
       "2   109     4  4.944774  52.343782  850000.0\n",
       "3   128     6  4.789928  52.343712  580000.0\n",
       "4   138     5  4.902503  52.410538  720000.0"
      ]
     },
     "execution_count": 4,
     "metadata": {},
     "output_type": "execute_result"
    }
   ],
   "source": [
    "data = data[[\"Area\", \"Room\", \"Lon\", \"Lat\", \"Price\"]]\n",
    "data.head()"
   ]
  },
  {
   "cell_type": "code",
   "execution_count": 5,
   "id": "1ed5e2d0",
   "metadata": {},
   "outputs": [
    {
     "data": {
      "text/plain": [
       "(924, 5)"
      ]
     },
     "execution_count": 5,
     "metadata": {},
     "output_type": "execute_result"
    }
   ],
   "source": [
    "#Shape is an attribute, not a method.\n",
    "data.shape "
   ]
  },
  {
   "cell_type": "code",
   "execution_count": 6,
   "id": "6d598562",
   "metadata": {},
   "outputs": [
    {
     "data": {
      "text/plain": [
       "Area     0\n",
       "Room     0\n",
       "Lon      0\n",
       "Lat      0\n",
       "Price    4\n",
       "dtype: int64"
      ]
     },
     "execution_count": 6,
     "metadata": {},
     "output_type": "execute_result"
    }
   ],
   "source": [
    "data.isnull().sum()"
   ]
  },
  {
   "cell_type": "code",
   "execution_count": 7,
   "id": "78a998bf",
   "metadata": {},
   "outputs": [],
   "source": [
    "data = data.dropna()"
   ]
  },
  {
   "cell_type": "code",
   "execution_count": 8,
   "id": "dcf4e6e4",
   "metadata": {},
   "outputs": [
    {
     "data": {
      "image/png": "[encoded data removed]",
      "text/plain": [
       "<Figure size 432x288 with 1 Axes>"
      ]
     },
     "metadata": {
      "needs_background": "light"
     },
     "output_type": "display_data"
    },
    {
     "data": {
      "image/png": "[encoded data removed]",
      "text/plain": [
       "<Figure size 432x288 with 1 Axes>"
      ]
     },
     "metadata": {
      "needs_background": "light"
     },
     "output_type": "display_data"
    },
    {
     "data": {
      "image/png": "[encoded data removed]",
      "text/plain": [
       "<Figure size 432x288 with 1 Axes>"
      ]
     },
     "metadata": {
      "needs_background": "light"
     },
     "output_type": "display_data"
    },
    {
     "data": {
      "image/png": "[encoded data removed]",
      "text/plain": [
       "<Figure size 432x288 with 1 Axes>"
      ]
     },
     "metadata": {
      "needs_background": "light"
     },
     "output_type": "display_data"
    }
   ],
   "source": [
    "#data.columns is a list contains the indices of each column.\n",
    "for i in range(0, len(data.columns) - 1):\n",
    "    data.plot(kind = \"scatter\", x = data.columns[i], y = data.columns[-1], color = \"red\")\n",
    "    plt.title(data.columns[-1] + \" - \" + data.columns[i])\n",
    "    plt.show()"
   ]
  },
  {
   "cell_type": "code",
   "execution_count": 9,
   "id": "dd4b6aa7",
   "metadata": {
    "scrolled": true
   },
   "outputs": [
    {
     "data": {
      "text/plain": [
       "0    685000.0\n",
       "1    475000.0\n",
       "2    850000.0\n",
       "3    580000.0\n",
       "4    720000.0\n",
       "Name: Price, dtype: float64"
      ]
     },
     "execution_count": 9,
     "metadata": {},
     "output_type": "execute_result"
    }
   ],
   "source": [
    "y_data = data[\"Price\"]\n",
    "y_data.head()"
   ]
  },
  {
   "cell_type": "code",
   "execution_count": 10,
   "id": "ef193248",
   "metadata": {},
   "outputs": [
    {
     "data": {
      "text/html": [
       "<div>\n",
       "<style scoped>\n",
       "    .dataframe tbody tr th:only-of-type {\n",
       "        vertical-align: middle;\n",
       "    }\n",
       "\n",
       "    .dataframe tbody tr th {\n",
       "        vertical-align: top;\n",
       "    }\n",
       "\n",
       "    .dataframe thead th {\n",
       "        text-align: right;\n",
       "    }\n",
       "</style>\n",
       "<table border=\"1\" class=\"dataframe\">\n",
       "  <thead>\n",
       "    <tr style=\"text-align: right;\">\n",
       "      <th></th>\n",
       "      <th>Area</th>\n",
       "      <th>Room</th>\n",
       "      <th>Lon</th>\n",
       "      <th>Lat</th>\n",
       "    </tr>\n",
       "  </thead>\n",
       "  <tbody>\n",
       "    <tr>\n",
       "      <th>0</th>\n",
       "      <td>64</td>\n",
       "      <td>3</td>\n",
       "      <td>4.907736</td>\n",
       "      <td>52.356157</td>\n",
       "    </tr>\n",
       "    <tr>\n",
       "      <th>1</th>\n",
       "      <td>60</td>\n",
       "      <td>3</td>\n",
       "      <td>4.850476</td>\n",
       "      <td>52.348586</td>\n",
       "    </tr>\n",
       "    <tr>\n",
       "      <th>2</th>\n",
       "      <td>109</td>\n",
       "      <td>4</td>\n",
       "      <td>4.944774</td>\n",
       "      <td>52.343782</td>\n",
       "    </tr>\n",
       "    <tr>\n",
       "      <th>3</th>\n",
       "      <td>128</td>\n",
       "      <td>6</td>\n",
       "      <td>4.789928</td>\n",
       "      <td>52.343712</td>\n",
       "    </tr>\n",
       "    <tr>\n",
       "      <th>4</th>\n",
       "      <td>138</td>\n",
       "      <td>5</td>\n",
       "      <td>4.902503</td>\n",
       "      <td>52.410538</td>\n",
       "    </tr>\n",
       "    <tr>\n",
       "      <th>...</th>\n",
       "      <td>...</td>\n",
       "      <td>...</td>\n",
       "      <td>...</td>\n",
       "      <td>...</td>\n",
       "    </tr>\n",
       "    <tr>\n",
       "      <th>919</th>\n",
       "      <td>117</td>\n",
       "      <td>1</td>\n",
       "      <td>4.927757</td>\n",
       "      <td>52.354173</td>\n",
       "    </tr>\n",
       "    <tr>\n",
       "      <th>920</th>\n",
       "      <td>72</td>\n",
       "      <td>3</td>\n",
       "      <td>4.890612</td>\n",
       "      <td>52.414587</td>\n",
       "    </tr>\n",
       "    <tr>\n",
       "      <th>921</th>\n",
       "      <td>51</td>\n",
       "      <td>3</td>\n",
       "      <td>4.856935</td>\n",
       "      <td>52.363256</td>\n",
       "    </tr>\n",
       "    <tr>\n",
       "      <th>922</th>\n",
       "      <td>113</td>\n",
       "      <td>4</td>\n",
       "      <td>4.965731</td>\n",
       "      <td>52.375268</td>\n",
       "    </tr>\n",
       "    <tr>\n",
       "      <th>923</th>\n",
       "      <td>79</td>\n",
       "      <td>4</td>\n",
       "      <td>4.810678</td>\n",
       "      <td>52.355493</td>\n",
       "    </tr>\n",
       "  </tbody>\n",
       "</table>\n",
       "<p>920 rows × 4 columns</p>\n",
       "</div>"
      ],
      "text/plain": [
       "     Area  Room       Lon        Lat\n",
       "0      64     3  4.907736  52.356157\n",
       "1      60     3  4.850476  52.348586\n",
       "2     109     4  4.944774  52.343782\n",
       "3     128     6  4.789928  52.343712\n",
       "4     138     5  4.902503  52.410538\n",
       "..    ...   ...       ...        ...\n",
       "919   117     1  4.927757  52.354173\n",
       "920    72     3  4.890612  52.414587\n",
       "921    51     3  4.856935  52.363256\n",
       "922   113     4  4.965731  52.375268\n",
       "923    79     4  4.810678  52.355493\n",
       "\n",
       "[920 rows x 4 columns]"
      ]
     },
     "execution_count": 10,
     "metadata": {},
     "output_type": "execute_result"
    }
   ],
   "source": [
    "x_data = data.drop(columns = [\"Price\"])\n",
    "x_data"
   ]
  },
  {
   "cell_type": "code",
   "execution_count": 11,
   "id": "f46aa4f3",
   "metadata": {},
   "outputs": [
    {
     "data": {
      "text/plain": [
       "array([ 685000.,  475000.,  850000.,  580000.,  720000.,  450000.,\n",
       "        450000.,  590000.,  399000.,  300000.,  540000.,  539000.,\n",
       "        390000.,  575000.,  650000.,  475000.,  700000.,  325000.,\n",
       "        399000.,  375000., 1625000.,  575000.,  600000.,  525000.,\n",
       "        350000.,  350000.,  575000.,  375000., 1650000.,  325000.,\n",
       "        800000., 1950000.,  735000., 3925000.,  475000.,  275000.,\n",
       "        375000.,  570000.,  375000.,  895000.,  365000.,  550000.,\n",
       "        325000.,  429000.,  650000.,  350000.,  475000.,  325000.,\n",
       "        425000.,  350000.,  350000.,  375000.,  450000., 1185000.,\n",
       "        385000.,  687500.,  585000., 1295000.,  375000.,  500000.,\n",
       "        300000.,  375000.,  400000.,  850000.,  550000.,  275000.,\n",
       "        330000.,  700000.,  500000.,  369000.,  245000.,  350000.,\n",
       "        425000.,  375000.,  335000.,  450000.,  395000.,  300000.,\n",
       "        450000.,  415000.,  650000.,  425000.,  469000.,  485000.,\n",
       "        225000.,  285000.,  995000., 1475000.,  475000.,  475000.,\n",
       "        395000.,  375000.,  400000.,  325000.,  400000.,  475000.,\n",
       "        425000.,  375000.,  365000.,  500000.,  450000.,  725000.,\n",
       "       4550000.,  225000.,  375000.,  495000.,  475000.,  450000.,\n",
       "        475000.,  475000.,  345000.,  369000.,  320000.,  465000.,\n",
       "        340000.,  375000.,  595000.,  525000.,  245000.,  275000.,\n",
       "        575000.,  250000.,  975000.,  375000., 1100000.,  750000.,\n",
       "        439000.,  375000.,  445000.,  325000.,  415000.,  300000.,\n",
       "        915000.,  685000.,  350000., 1025000.,  895000.,  350000.,\n",
       "        265000.,  500000.,  295000., 1175000.,  995000.,  385000.,\n",
       "        550000.,  325000.,  225000.,  395000.,  425000.,  525000.,\n",
       "        800000.,  400000.,  250000.,  360000., 1050000.,  799000.,\n",
       "       1700000.,  825000.,  290000.,  469000.,  625000., 1050000.,\n",
       "        540000.,  285000.,  859000.,  275000.,  525000.,  375000.,\n",
       "        399500.,  430000., 1300000., 1750000.,  950000., 1450000.,\n",
       "        285000.,  300000., 1500000.,  685000., 4495000.,  989000.,\n",
       "        765000.,  900000.,  665000., 2475000.,  475000.,  300000.,\n",
       "        350000.,  450000.,  600000.,  350000.,  595000.,  335000.,\n",
       "       1295000.,  825000., 5950000.,  325000.,  450000., 1450000.,\n",
       "        585000., 1200000., 1550000., 1250000.,  998000.,  395000.,\n",
       "        935000., 1050000.,  729000.,  699000., 1500000.,  400000.,\n",
       "        550000.,  950000.,  975000.,  295000.,  350000.,  685000.,\n",
       "       1499000., 1275000.,  375000., 1595000.,  439000.,  785000.,\n",
       "        395000.,  595000.,  875000.,  295000.,  520000.,  439000.,\n",
       "        410000.,  275000., 2450000.,  350000., 1795000.,  835000.,\n",
       "        985000.,  425000.,  635000.,  999500., 1050000.,  225000.,\n",
       "       1099000.,  895000.,  899000.,  799000.,  719000.,  750000.,\n",
       "        285000.,  285000.,  900000.,  475000.,  545000.,  685000.,\n",
       "       2200000.,  650000., 1100011., 1200000., 1495000.,  295000.,\n",
       "       1000000., 1150000., 2250000., 1350000., 1650000., 2750000.,\n",
       "       1050000.,  469000.,  669000.,  300000.,  425000.,  749000.,\n",
       "        700000.,  389000.,  900000., 1750000.,  275000., 3500000.,\n",
       "        400000.,  850000., 1700000., 2325000., 1495000.,  549000.,\n",
       "       1375000., 1250000.,  500000.,  575000., 2475000., 1425000.,\n",
       "       1695000.,  515000., 1095000., 2500000.,  519900.,  700000.,\n",
       "       2650000., 1149000.,  280000.,  600000.,  950000.,  849000.,\n",
       "       3680000.,  850000.,  750750., 1400000., 4900000.,  899000.,\n",
       "        895000., 1695000., 1085000.,  300000.,  649000.,  785000.,\n",
       "        565000., 1395000.,  795000., 1200000.,  995000.,  775000.,\n",
       "        825000., 1249000.,  380000.,  450000.,  399000.,  650000.,\n",
       "        485000., 1599000.,  950000.,  629000.,  359000.,  419000.,\n",
       "        250000.,  320000., 3500000.,  415000.,  750000.,  420000.,\n",
       "        525000.,  550000.,  450000.,  425000.,  699000.,  675000.,\n",
       "       1150000., 1250000., 1450000.,  240000.,  345000.,  425000.,\n",
       "        250000.,  485000., 1200000.,  325000.,  275000.,  365000.,\n",
       "        300000.,  485000.,  725000.,  325000.,  225000.,  690000.,\n",
       "        250000.,  825000.,  239000.,  400000.,  430000.,  485000.,\n",
       "        300000.,  550000.,  325000.,  250000.,  675000.,  295000.,\n",
       "        350000.,  375000.,  360000.,  325000.,  250000.,  550000.,\n",
       "        325000.,  235000.,  450000.,  245000., 1400000.,  650000.,\n",
       "        465000.,  735000.,  675000.,  425000.,  635000.,  300000.,\n",
       "        375000.,  300000.,  910000.,  385000.,  775000.,  349500.,\n",
       "        375000.,  325000.,  295000.,  345000.,  325000.,  245000.,\n",
       "        650000.,  450000.,  525000.,  315000.,  500000.,  285000.,\n",
       "        600000.,  425000.,  225000.,  440000.,  450000.,  425000.,\n",
       "        230000.,  395000.,  550000.,  350000.,  335000.,  300000.,\n",
       "        270000.,  675000.,  450000.,  450000.,  549000.,  265000.,\n",
       "        395000.,  275000.,  400000.,  450000.,  395000.,  335000.,\n",
       "        425000.,  325000.,  590000.,  345000.,  398011.,  900000.,\n",
       "        400000.,  825000.,  415000.,  685000.,  610000.,  295000.,\n",
       "        339000.,  310000.,  395000.,  335000.,  275000.,  425000.,\n",
       "        225000.,  500000.,  600000.,  300000.,  350000.,  475000.,\n",
       "        510000.,  225000.,  545000.,  550000.,  225000.,  320000.,\n",
       "        360000.,  475000.,  425000.,  395000.,  265000.,  230000.,\n",
       "        750000., 1000000.,  825000.,  425000.,  369000.,  300000.,\n",
       "        389000.,  300000.,  800000.,  600000.,  300000.,  415000.,\n",
       "        325000.,  775000.,  750000.,  650000.,  600000.,  325000.,\n",
       "        385000.,  875000.,  500000.,  900000.,  350000.,  350000.,\n",
       "        450000.,  325000.,  200000.,  575000.,  325000.,  400000.,\n",
       "        365000.,  350000.,  300000.,  375000.,  415000.,  300000.,\n",
       "        625000.,  315000.,  325000.,  370000.,  298000.,  375000.,\n",
       "        325000.,  325000.,  375000.,  295000.,  375000.,  295000.,\n",
       "        275000.,  345000.,  500000.,  390000.,  400000.,  250000.,\n",
       "        625000.,  550000.,  585000.,  425000.,  300000.,  300000.,\n",
       "        275000.,  525000.,  725000.,  350000.,  275000.,  450000.,\n",
       "        325000.,  425000.,  300000.,  330000.,  215000.,  695000.,\n",
       "        750000.,  400000.,  585000.,  395000.,  250000.,  725000.,\n",
       "        275000.,  700000.,  260000.,  275000.,  535000.,  465000.,\n",
       "        490000.,  375000.,  425000.,  265000.,  425000.,  525000.,\n",
       "        625000.,  380000.,  950000.,  350000.,  325000.,  550000.,\n",
       "        300000.,  245000.,  230000.,  395000.,  365000.,  698000.,\n",
       "        495000.,  375000.,  375000., 1200000.,  425000.,  730000.,\n",
       "        325000.,  275000.,  535000.,  375000.,  775000.,  375000.,\n",
       "        400000.,  300000.,  375000.,  295000.,  345000.,  260000.,\n",
       "        225000.,  425000.,  475000.,  425000., 1170000.,  520000.,\n",
       "        350000.,  289500.,  480000.,  325000.,  250000.,  350000.,\n",
       "        600000.,  350000.,  525000.,  500000.,  700000.,  300000.,\n",
       "        175000.,  365000.,  375000.,  425000., 1320000.,  469000.,\n",
       "        270000.,  325000.,  650000.,  550000., 1150000.,  385000.,\n",
       "        325000.,  750000.,  465000.,  300000.,  250000.,  500000.,\n",
       "        875000.,  399000.,  925000.,  875000.,  930000.,  725000.,\n",
       "        575000.,  600000.,  600000.,  265000.,  350000.,  340000.,\n",
       "        350000.,  430000.,  975000.,  500000.,  850000.,  645000.,\n",
       "        425000., 1090000.,  895000.,  465000.,  700000.,  325000.,\n",
       "        695000.,  825000.,  280000.,  550000.,  325000.,  325000.,\n",
       "        275000.,  340000.,  550000.,  500000.,  750000.,  499000.,\n",
       "       1750000., 1250000.,  319000., 1100000.,  325000.,  475000.,\n",
       "        300000.,  265000.,  399500.,  725000.,  625000.,  399000.,\n",
       "        445000.,  550000.,  675000.,  325000.,  600000.,  375000.,\n",
       "        575000.,  475000.,  500000.,  275000., 1775000.,  525000.,\n",
       "        400000.,  375000.,  550000.,  525000.,  760000.,  700000.,\n",
       "        675000.,  325000.,  459000.,  350000.,  325000.,  275000.,\n",
       "        275000.,  700000.,  209000., 1325000.,  850000.,  485000.,\n",
       "        385000.,  650000.,  450000.,  450000.,  600000.,  245000.,\n",
       "        500000.,  600000.,  595000.,  995000.,  475000.,  275000.,\n",
       "        285000.,  585000.,  310000.,  495000.,  475000.,  425000.,\n",
       "        875000.,  560000.,  700000., 1150000., 1250000.,  275000.,\n",
       "        575000., 1025000.,  340000.,  550000.,  400000.,  235000.,\n",
       "        335000.,  975000.,  450000.,  350000.,  725000.,  340000.,\n",
       "       1175000.,  325000.,  700000.,  295000.,  335000.,  300000.,\n",
       "        600000.,  675000.,  495000.,  539000.,  499000.,  475000.,\n",
       "        800000., 1625000.,  315000.,  450000.,  495000.,  550000.,\n",
       "        400000.,  525000.,  350000.,  620000.,  375000.,  550000.,\n",
       "       1095000.,  485000.,  385000., 1575000.,  249000.,  350000.,\n",
       "        600000.,  425000.,  345000.,  640000.,  645000.,  350000.,\n",
       "        350000.,  475000.,  400000.,  450000.,  450000.,  375000.,\n",
       "        485000., 1100000., 1000000.,  375000.,  525000., 1325000.,\n",
       "        335000.,  400000.,  835000.,  885000.,  635000., 1120000.,\n",
       "        375000.,  400000.,  285000.,  425137.,  549001.,  575000.,\n",
       "        500000.,  179000.,  790000.,  350000.,  425000.,  600000.,\n",
       "       1099000.,  525000.,  329000.,  445000.,  950000.,  800000.,\n",
       "        350000.,  875000.,  575000.,  700000.,  325000.,  750000.,\n",
       "        500000.,  300000.,  675000.,  345000.,  275000.,  245000.,\n",
       "        385000.,  375000.,  300000., 1200000.,  499000.,  325000.,\n",
       "        480000.,  475000.,  685000.,  550000.,  550000., 5850000.,\n",
       "        330000.,  375000.,  575000.,  825000.,  515000.,  225000.,\n",
       "       1050000.,  425000.,  375000., 1150000.,  425000., 1450000.,\n",
       "        850000.,  750000.,  450000.,  235000.,  600000.,  315000.,\n",
       "       1250000.,  699000.,  440000.,  450000.,  300000.,  475000.,\n",
       "        399000.,  790000.,  650000.,  375000.,  365000.,  210000.,\n",
       "        269000.,  570000.,  785000.,  500000.,  400000.,  425000.,\n",
       "        700000.,  350000.,  360000.,  512000.,  375000.,  750000.,\n",
       "        237000.,  375000.,  560000.,  250000.,  650000., 1450000.,\n",
       "        275000.,  550000.,  349000.,  350000.,  575000., 1000000.,\n",
       "        398000.,  280000.,  350000.,  500000.,  615000.,  575000.,\n",
       "        275000.,  644900.,  199000.,  685000., 1300000.,  540000.,\n",
       "        475000.,  245000., 1250000.,  695000.,  348738.,  348738.,\n",
       "       1698000.,  275000.,  375000.,  675000.,  849000.,  539000.,\n",
       "        525000., 1500000.,  295000.,  750000.,  350000.,  350000.,\n",
       "        599000.,  300000.])"
      ]
     },
     "execution_count": 11,
     "metadata": {},
     "output_type": "execute_result"
    }
   ],
   "source": [
    "#Transfrom the data of the Price columns into a numpy array.\n",
    "y_predict = np.array(data[\"Price\"])\n",
    "y_predict"
   ]
  },
  {
   "cell_type": "code",
   "execution_count": 12,
   "id": "67013afb",
   "metadata": {
    "scrolled": true
   },
   "outputs": [
    {
     "data": {
      "text/plain": [
       "array([[ 64.      ,   3.      ,   4.907736,  52.356157],\n",
       "       [ 60.      ,   3.      ,   4.850476,  52.348586],\n",
       "       [109.      ,   4.      ,   4.944774,  52.343782],\n",
       "       ...,\n",
       "       [ 51.      ,   3.      ,   4.856935,  52.363256],\n",
       "       [113.      ,   4.      ,   4.965731,  52.375268],\n",
       "       [ 79.      ,   4.      ,   4.810678,  52.355493]])"
      ]
     },
     "execution_count": 12,
     "metadata": {},
     "output_type": "execute_result"
    }
   ],
   "source": [
    "#Transform each row of x_data into an 1D array, then the rows will be formed in to a 2D array.\n",
    "X = np.array(x_data)\n",
    "X"
   ]
  },
  {
   "cell_type": "code",
   "execution_count": 13,
   "id": "94db698b",
   "metadata": {},
   "outputs": [
    {
     "data": {
      "text/plain": [
       "0.7891719900167342"
      ]
     },
     "execution_count": 13,
     "metadata": {},
     "output_type": "execute_result"
    }
   ],
   "source": [
    "#Split up 10% of the train data into test sample.\n",
    "x_train, x_test, y_train, y_test = sklearn.model_selection.train_test_split(X, y_predict, test_size = 0.1)\n",
    "linear = linear_model.LinearRegression()\n",
    "linear.fit(x_train, y_train)\n",
    "accuracy = linear.score(x_test, y_test)\n",
    "accuracy"
   ]
  },
  {
   "cell_type": "code",
   "execution_count": 14,
   "id": "5e6b9507",
   "metadata": {},
   "outputs": [
    {
     "name": "stdout",
     "output_type": "stream",
     "text": [
      "Linear Coefficient of Area:  8599.344106076262\n",
      "Linear Coefficient of Room:  -57136.50958633023\n",
      "Linear Coefficient of Lon:  -270443.4623776216\n",
      "Linear Coefficient of Lat:  960617.5170530818\n"
     ]
    }
   ],
   "source": [
    "for i in range (0, len(data.columns) - 1):\n",
    "    print(\"Linear Coefficient of \" + data.columns[i] + \": \", linear.coef_[i])\n",
    "#The bigger the coefficient is, the more weight the attribute has."
   ]
  },
  {
   "cell_type": "code",
   "execution_count": 15,
   "id": "5ad363e3",
   "metadata": {},
   "outputs": [
    {
     "name": "stdout",
     "output_type": "stream",
     "text": [
      "Linear Intercept:  -48981178.87948857\n"
     ]
    }
   ],
   "source": [
    "print(\"Linear Intercept: \", linear.intercept_)"
   ]
  },
  {
   "cell_type": "code",
   "execution_count": 16,
   "id": "a60ca703",
   "metadata": {},
   "outputs": [
    {
     "name": "stdout",
     "output_type": "stream",
     "text": [
      "Prediction value: 560440.6036045626 , Actual value:  760000.0 , Error:  30.22618296509159 %\n",
      "Prediction value: 298584.4804695621 , Actual value:  475000.0 , Error:  45.60989109382197 %\n",
      "Prediction value: 357410.1861002147 , Actual value:  385000.0 , Error:  7.432498749703591 %\n",
      "Prediction value: 479725.8288669884 , Actual value:  425000.0 , Error:  12.097770865130046 %\n",
      "Prediction value: 1393519.8283273056 , Actual value:  2475000.0 , Error:  55.91183293173459 %\n",
      "Prediction value: 346968.08331056684 , Actual value:  250000.0 , Error:  32.486856842602805 %\n",
      "Prediction value: 812280.206116192 , Actual value:  825000.0 , Error:  1.553771167121198 %\n",
      "Prediction value: 547084.0451304018 , Actual value:  325000.0 , Error:  50.93179868855274 %\n",
      "Prediction value: 726708.4480151013 , Actual value:  539000.0 , Error:  29.660613913017304 %\n",
      "Prediction value: 467908.6639396548 , Actual value:  500000.0 , Error:  6.631067011989457 %\n",
      "Prediction value: 272946.12503890693 , Actual value:  325000.0 , Error:  17.410891309883826 %\n",
      "Prediction value: 1121569.4868299663 , Actual value:  1250000.0 , Error:  10.830845470330656 %\n",
      "Prediction value: 544410.1909870803 , Actual value:  450000.0 , Error:  18.988178488670968 %\n",
      "Prediction value: 2544735.527480066 , Actual value:  3500000.0 , Error:  31.606493557152056 %\n",
      "Prediction value: 607285.0854882374 , Actual value:  469000.0 , Error:  25.69673915447911 %\n",
      "Prediction value: 674329.2552106157 , Actual value:  985000.0 , Error:  37.44534049692886 %\n",
      "Prediction value: 684657.492350392 , Actual value:  600000.0 , Error:  13.179776376893088 %\n",
      "Prediction value: 566827.7965045348 , Actual value:  475000.0 , Error:  17.62821011545838 %\n",
      "Prediction value: 213300.51382798702 , Actual value:  340000.0 , Error:  45.79771137223342 %\n",
      "Prediction value: 858945.6992888078 , Actual value:  950000.0 , Error:  10.067112655398164 %\n",
      "Prediction value: 631922.9119907618 , Actual value:  485000.0 , Error:  26.3085142964597 %\n",
      "Prediction value: 200113.90496654063 , Actual value:  385000.0 , Error:  63.196616407204324 %\n",
      "Prediction value: 515891.372114785 , Actual value:  310000.0 , Error:  49.859189493063155 %\n",
      "Prediction value: 1525168.5830129236 , Actual value:  1100011.0 , Error:  32.390742771583604 %\n",
      "Prediction value: 838703.0362194404 , Actual value:  699000.0 , Error:  18.170353173381372 %\n",
      "Prediction value: 430864.53082588315 , Actual value:  535000.0 , Error:  21.563162503767188 %\n",
      "Prediction value: 460472.86347414553 , Actual value:  245000.0 , Error:  61.08608130241491 %\n",
      "Prediction value: 3521899.2935806364 , Actual value:  4550000.0 , Error:  25.47357614426593 %\n",
      "Prediction value: 544235.8832861334 , Actual value:  520000.0 , Error:  4.55460742618416 %\n",
      "Prediction value: 280159.7872928828 , Actual value:  325000.0 , Error:  14.81929686957723 %\n",
      "Prediction value: 938320.331060797 , Actual value:  998000.0 , Error:  6.164235119765335 %\n",
      "Prediction value: 180100.18144410104 , Actual value:  360000.0 , Error:  66.61720352505311 %\n",
      "Prediction value: 271433.1000246778 , Actual value:  585000.0 , Error:  73.22624498429285 %\n",
      "Prediction value: 397162.8346915245 , Actual value:  300000.0 , Error:  27.873784962882137 %\n",
      "Prediction value: 560415.795943886 , Actual value:  675000.0 , Error:  18.549901083071227 %\n",
      "Prediction value: 515074.1375110969 , Actual value:  375000.0 , Error:  31.474712410537943 %\n",
      "Prediction value: 3324240.5138999075 , Actual value:  5850000.0 , Error:  55.06198539864548 %\n",
      "Prediction value: 770287.1010083556 , Actual value:  750000.0 , Error:  2.668851297218777 %\n",
      "Prediction value: 627571.3176163658 , Actual value:  550000.0 , Error:  13.174797391190767 %\n",
      "Prediction value: 312688.10640382767 , Actual value:  400000.0 , Error:  24.50213292789234 %\n",
      "Prediction value: 415078.1432875693 , Actual value:  550000.0 , Error:  27.960814914492857 %\n",
      "Prediction value: 363737.39841680974 , Actual value:  490000.0 , Error:  29.57879128109757 %\n",
      "Prediction value: 818140.5064418986 , Actual value:  375000.0 , Error:  74.2813615076068 %\n",
      "Prediction value: 559884.6725209132 , Actual value:  325000.0 , Error:  53.08820003668036 %\n",
      "Prediction value: 451763.2036502287 , Actual value:  320000.0 , Error:  34.146018630332414 %\n",
      "Prediction value: 450698.50483671576 , Actual value:  590000.0 , Error:  26.770768770373216 %\n",
      "Prediction value: 535338.1962849796 , Actual value:  375000.0 , Error:  35.226072450723805 %\n",
      "Prediction value: 619713.5726675093 , Actual value:  650000.0 , Error:  4.770592042875101 %\n",
      "Prediction value: 823067.4957159013 , Actual value:  515000.0 , Error:  46.04663018902153 %\n",
      "Prediction value: 729474.9785517752 , Actual value:  375000.0 , Error:  64.18886537684625 %\n",
      "Prediction value: 577316.8559392095 , Actual value:  335000.0 , Error:  53.12120550261012 %\n",
      "Prediction value: 517214.70076064765 , Actual value:  285000.0 , Error:  57.89340448148488 %\n",
      "Prediction value: 1297053.964694813 , Actual value:  2200000.0 , Error:  51.640383272380355 %\n",
      "Prediction value: 245475.28072357178 , Actual value:  275000.0 , Error:  11.345291647811807 %\n",
      "Prediction value: 401748.61962649226 , Actual value:  348738.0 , Error:  14.1269992669223 %\n",
      "Prediction value: 355514.64047427475 , Actual value:  375000.0 , Error:  5.3346937750829175 %\n",
      "Prediction value: 197363.44968734682 , Actual value:  250000.0 , Error:  23.53189575475591 %\n",
      "Prediction value: 575465.191107668 , Actual value:  560000.0 , Error:  2.7240273376555724 %\n",
      "Prediction value: 251554.57926217467 , Actual value:  429000.0 , Error:  52.147300494312546 %\n",
      "Prediction value: 405161.4147324413 , Actual value:  300000.0 , Error:  29.826196537523995 %\n",
      "Prediction value: 578210.1335489601 , Actual value:  275000.0 , Error:  71.07513650541068 %\n",
      "Prediction value: 236940.7707213089 , Actual value:  375000.0 , Error:  45.12176206725284 %\n",
      "Prediction value: 1392061.134530291 , Actual value:  2500000.0 , Error:  56.93327145558413 %\n",
      "Prediction value: 1684645.6791401133 , Actual value:  1625000.0 , Error:  3.6043543582955366 %\n",
      "Prediction value: 274614.1119366884 , Actual value:  375000.0 , Error:  30.906313831154954 %\n",
      "Prediction value: 445809.57217191905 , Actual value:  425000.0 , Error:  4.779362293874907 %\n",
      "Prediction value: 879776.3148214668 , Actual value:  485000.0 , Error:  57.85216383581649 %\n",
      "Prediction value: 498608.68262054026 , Actual value:  280000.0 , Error:  56.15367192792546 %\n",
      "Prediction value: 1285495.7008419633 , Actual value:  1099000.0 , Error:  15.642359998897195 %\n",
      "Prediction value: 273913.72906615585 , Actual value:  295000.0 , Error:  7.412818449101671 %\n",
      "Prediction value: 291879.363818042 , Actual value:  270000.0 , Error:  7.787922186488185 %\n",
      "Prediction value: 338561.41905716807 , Actual value:  475000.0 , Error:  33.54106469329626 %\n",
      "Prediction value: 218858.67527663708 , Actual value:  285000.0 , Error:  26.25391919154667 %\n",
      "Prediction value: 434679.09141528606 , Actual value:  275000.0 , Error:  45.000365192341825 %\n",
      "Prediction value: 1132249.9205265492 , Actual value:  999500.0 , Error:  12.454549124013528 %\n",
      "Prediction value: 488934.4770382866 , Actual value:  495000.0 , Error:  1.2329119678722984 %\n",
      "Prediction value: 791866.880036898 , Actual value:  600000.0 , Error:  27.569717016588775 %\n",
      "Prediction value: 855323.2753890902 , Actual value:  995000.0 , Error:  15.097548246701733 %\n",
      "Prediction value: 649717.9905053005 , Actual value:  800000.0 , Error:  20.732585299892513 %\n",
      "Prediction value: 532261.5038211569 , Actual value:  400000.0 , Error:  28.374335586966314 %\n",
      "Prediction value: 308470.695461601 , Actual value:  439000.0 , Error:  34.92559784107403 %\n",
      "Prediction value: 1449989.7578591555 , Actual value:  1700000.0 , Error:  15.873717780641945 %\n",
      "Prediction value: 421505.42534302175 , Actual value:  700000.0 , Error:  49.66441862228145 %\n",
      "Prediction value: 750834.7103308514 , Actual value:  750000.0 , Error:  0.11123281266161127 %\n",
      "Prediction value: 257947.36391597986 , Actual value:  375000.0 , Error:  36.98653087353981 %\n",
      "Prediction value: 529688.1317175105 , Actual value:  735000.0 , Error:  32.46837906253862 %\n",
      "Prediction value: 736239.3638388216 , Actual value:  450000.0 , Error:  48.25996718107796 %\n",
      "Prediction value: 371168.99087001383 , Actual value:  260000.0 , Error:  35.22637914032394 %\n",
      "Prediction value: 388776.44993285835 , Actual value:  250000.0 , Error:  43.450709539290344 %\n",
      "Prediction value: 284149.3512287438 , Actual value:  525000.0 , Error:  59.53181533310494 %\n",
      "Prediction value: 799689.7556443661 , Actual value:  550000.0 , Error:  36.99957780670266 %\n",
      "Prediction value: 993650.4278719798 , Actual value:  1100000.0 , Error:  10.159248240511255 %\n"
     ]
    }
   ],
   "source": [
    "predictions = linear.predict(x_test)\n",
    "for i in range (len(predictions)):\n",
    "    print(\"Prediction value:\", predictions[i], \", Actual value: \", y_test[i], \", Error: \", \n",
    "          (200 * abs(predictions[i] - y_test[i]))/(predictions[i] + y_test[i]), \"%\")"
   ]
  },
  {
   "cell_type": "code",
   "execution_count": 17,
   "id": "125407c4",
   "metadata": {},
   "outputs": [],
   "source": [
    "#save the model using \"pickle\" library\n",
    "\n",
    "with open(\"AmsterdamHousePrice.pickle\", \"wb\") as f:\n",
    "    pickle.dump(linear, f)"
   ]
  },
  {
   "cell_type": "code",
   "execution_count": 18,
   "id": "d6e1b129",
   "metadata": {},
   "outputs": [],
   "source": [
    "#read the saved model.\n",
    "ahp_pickle_read = open(\"AmsterdamHousePrice.pickle\", \"rb\")\n",
    "lin_reg = pickle.load(ahp_pickle_read)"
   ]
  },
  {
   "cell_type": "code",
   "execution_count": 19,
   "id": "807a31f2",
   "metadata": {},
   "outputs": [
    {
     "data": {
      "text/plain": [
       "0.7891719900167342"
      ]
     },
     "execution_count": 19,
     "metadata": {},
     "output_type": "execute_result"
    }
   ],
   "source": [
    "#confirm the accuracy score of the saved model\n",
    "lin_reg.score(x_test, y_test)"
   ]
  },
  {
   "cell_type": "code",
   "execution_count": 22,
   "id": "488c1af6",
   "metadata": {},
   "outputs": [
    {
     "name": "stdout",
     "output_type": "stream",
     "text": [
      "0.6792718190619638\n",
      "0.2982640840911246\n",
      "0.6783402379734109\n",
      "0.7672598258877515\n",
      "0.6578732313291966\n",
      "0.6532553690621854\n",
      "0.8143853765990314\n",
      "0.745243409759058\n",
      "0.5173658223034182\n",
      "0.5928431620454425\n",
      "0.8212622976941952\n",
      "0.8278922876926718\n",
      "0.6527458820644962\n",
      "0.5233409954648135\n",
      "0.7510257750345264\n",
      "0.3187430659106065\n",
      "0.6334929253620196\n",
      "0.5975007312336331\n",
      "0.7614261851505675\n",
      "0.6520822564940416\n",
      "0.504837465962449\n",
      "0.39267574656158244\n",
      "0.6296983528717487\n",
      "0.6424083063376858\n",
      "0.6798148089467189\n",
      "0.5592065035116371\n",
      "0.48312848066120617\n",
      "0.7354334776331122\n",
      "0.8023566718348252\n",
      "0.8206274368684111\n",
      "0.5675942468887458\n",
      "0.4034289007083931\n",
      "0.5333608754762391\n",
      "0.4431555783251382\n",
      "0.5476779827247253\n",
      "0.8087415032302978\n",
      "0.6215606168259982\n",
      "saving model.\n",
      "New best score:  0.9321369359025031\n",
      "yes\n",
      "The Best Accuracy Score:  0.9321369359025031\n"
     ]
    }
   ],
   "source": [
    "#test multiple times and save the best result.\n",
    "best_accuracy_score = 0.9\n",
    "for i in range(1000):\n",
    "    x_train, x_test, y_train, y_test = sklearn.model_selection.train_test_split(X, y_predict, test_size = 0.1)\n",
    "    lin_reg = linear_model.LinearRegression()\n",
    "    lin_reg.fit(x_train, y_train)\n",
    "    accuracy_score = lin_reg.score(x_test, y_test)\n",
    "    if(accuracy_score > best_accuracy_score):\n",
    "        best_accuracy_score = accuracy_score\n",
    "        with open(\"AmsterdamHousePrice.pickle\", \"wb\") as f:\n",
    "            print(\"saving model.\")\n",
    "            pickle.dump(lin_reg, f)\n",
    "        print(\"New best score: \", accuracy_score)\n",
    "        #break right after it gets a model with an accuracy > 0.9, otherwise the next time\n",
    "        #it gets the best score, the saved model's accuracy score will be a random value (unknown reason)\n",
    "        break\n",
    "    else:\n",
    "        print(accuracy_score)\n",
    "\n",
    "#test if the best model is saved\n",
    "if(lin_reg.score(x_test, y_test) == best_accuracy_score):\n",
    "    print(\"yes\")\n",
    "#print out the best score.\n",
    "ahp_pickle_read = open(\"AmsterdamHousePrice.pickle\", \"rb\")\n",
    "lin_reg = pickle.load(ahp_pickle_read)\n",
    "print(\"The Best Accuracy Score: \", lin_reg.score(x_test, y_test))"
   ]
  },
  {
   "cell_type": "code",
   "execution_count": 24,
   "id": "be4d6196",
   "metadata": {
    "scrolled": false
   },
   "outputs": [
    {
     "name": "stdout",
     "output_type": "stream",
     "text": [
      "Prediction value: 352745.5704385191 , Actual value:  365000.0 , Error:  3.414700157325617 %\n",
      "Prediction value: 539473.8825881481 , Actual value:  315000.0 , Error:  52.54084113331369 %\n",
      "Prediction value: 258769.70245337486 , Actual value:  230000.0 , Error:  11.772293703544069 %\n",
      "Prediction value: 905861.2542726398 , Actual value:  900000.0 , Error:  0.6491367217467139 %\n",
      "Prediction value: 286588.86842834204 , Actual value:  400000.0 , Error:  33.03611135766453 %\n",
      "Prediction value: 288318.4885973111 , Actual value:  350000.0 , Error:  19.326249358132333 %\n",
      "Prediction value: 712168.749656409 , Actual value:  450000.0 , Error:  45.117156993580885 %\n",
      "Prediction value: 477165.04024757445 , Actual value:  585000.0 , Error:  20.304746563168916 %\n",
      "Prediction value: 4893353.505274333 , Actual value:  4900000.0 , Error:  0.13573480671533786 %\n",
      "Prediction value: 551747.0581171885 , Actual value:  325000.0 , Error:  51.72462365693638 %\n",
      "Prediction value: 201310.5803413242 , Actual value:  369000.0 , Error:  58.80635058824111 %\n",
      "Prediction value: 702801.1326264068 , Actual value:  500000.0 , Error:  33.72147350469737 %\n",
      "Prediction value: 317179.8246662915 , Actual value:  430000.0 , Error:  30.198935144989157 %\n",
      "Prediction value: 1128448.51477772 , Actual value:  1185000.0 , Error:  4.88893397549533 %\n",
      "Prediction value: 3092623.1404299065 , Actual value:  3680000.0 , Error:  17.345623620002826 %\n",
      "Prediction value: 606396.4431684613 , Actual value:  295000.0 , Error:  69.09200619294316 %\n",
      "Prediction value: 372729.0554350838 , Actual value:  265000.0 , Error:  33.785211608897704 %\n",
      "Prediction value: 523289.1486711949 , Actual value:  325000.0 , Error:  46.75036783903355 %\n",
      "Prediction value: 351791.99842659384 , Actual value:  475000.0 , Error:  29.80386888307437 %\n",
      "Prediction value: 409828.1423660591 , Actual value:  450000.0 , Error:  9.344159758110894 %\n",
      "Prediction value: 527267.0948902592 , Actual value:  400000.0 , Error:  27.44993229924137 %\n",
      "Prediction value: 342355.4977020845 , Actual value:  285000.0 , Error:  18.284847399016876 %\n",
      "Prediction value: 685447.626606822 , Actual value:  700000.0 , Error:  2.10074680755981 %\n",
      "Prediction value: 900421.994163163 , Actual value:  1149000.0 , Error:  24.2583525057111 %\n",
      "Prediction value: 1901954.3641420528 , Actual value:  1500000.0 , Error:  23.630791075789325 %\n",
      "Prediction value: 546300.6826412976 , Actual value:  425000.0 , Error:  24.976958177655078 %\n",
      "Prediction value: 414170.56853237003 , Actual value:  275000.0 , Error:  40.38784442833712 %\n",
      "Prediction value: 424704.6882723421 , Actual value:  350000.0 , Error:  19.285978103202126 %\n",
      "Prediction value: 175683.73376059532 , Actual value:  325000.0 , Error:  59.644943972076824 %\n",
      "Prediction value: 208077.97498194873 , Actual value:  325000.0 , Error:  43.86676265212815 %\n",
      "Prediction value: 608625.991306901 , Actual value:  450000.0 , Error:  29.96827824169953 %\n",
      "Prediction value: 2944248.0723600984 , Actual value:  3500000.0 , Error:  17.24799918934116 %\n",
      "Prediction value: 393629.7643263638 , Actual value:  415000.0 , Error:  5.285542683786532 %\n",
      "Prediction value: 261687.59858241677 , Actual value:  265000.0 , Error:  1.2578239649076903 %\n",
      "Prediction value: 1274030.1685085148 , Actual value:  989000.0 , Error:  25.1901342257729 %\n",
      "Prediction value: 691020.5080154836 , Actual value:  825000.0 , Error:  17.675155616450013 %\n",
      "Prediction value: 374214.60278155655 , Actual value:  525000.0 , Error:  33.537132682680266 %\n",
      "Prediction value: 259711.09173038602 , Actual value:  400000.0 , Error:  42.53040763696844 %\n",
      "Prediction value: 413880.56303498894 , Actual value:  300000.0 , Error:  31.904654344653277 %\n",
      "Prediction value: 394637.22891084105 , Actual value:  425000.0 , Error:  7.408831619204493 %\n",
      "Prediction value: 881721.2178809792 , Actual value:  900000.0 , Error:  2.05181169035636 %\n",
      "Prediction value: 133280.4593642652 , Actual value:  275000.0 , Error:  69.42264190473712 %\n",
      "Prediction value: 425734.7022869289 , Actual value:  700000.0 , Error:  48.7264534274197 %\n",
      "Prediction value: 531289.4314673096 , Actual value:  520000.0 , Error:  2.1477304212128656 %\n",
      "Prediction value: 121742.01269607991 , Actual value:  200000.0 , Error:  48.64642117959473 %\n",
      "Prediction value: 195770.95266417414 , Actual value:  275000.0 , Error:  33.65927608211806 %\n",
      "Prediction value: 443436.77783768624 , Actual value:  550000.0 , Error:  21.453448179009275 %\n",
      "Prediction value: 104461.29064088315 , Actual value:  295000.0 , Error:  95.3978339445219 %\n",
      "Prediction value: 1582029.636608459 , Actual value:  1650000.0 , Error:  4.206048275155414 %\n",
      "Prediction value: 914501.6463705078 , Actual value:  1025000.0 , Error:  11.39450990786975 %\n",
      "Prediction value: 860288.4413031191 , Actual value:  1120000.0 , Error:  26.2296697066998 %\n",
      "Prediction value: 422108.6277672276 , Actual value:  350000.0 , Error:  18.678363425558462 %\n",
      "Prediction value: 229505.6740667522 , Actual value:  300000.0 , Error:  26.62646667856516 %\n",
      "Prediction value: 205068.25062906742 , Actual value:  239000.0 , Error:  15.28222264161639 %\n",
      "Prediction value: 437426.84466840327 , Actual value:  425000.0 , Error:  2.8818316000312576 %\n",
      "Prediction value: 343262.70021794736 , Actual value:  475000.0 , Error:  32.19926797273392 %\n",
      "Prediction value: 485749.3030669987 , Actual value:  698000.0 , Error:  35.86075132345622 %\n",
      "Prediction value: 373350.13149160147 , Actual value:  275000.0 , Error:  30.338586117145088 %\n",
      "Prediction value: 1126353.0526968315 , Actual value:  675000.0 , Error:  50.11266969804774 %\n",
      "Prediction value: 406594.9718853384 , Actual value:  425000.0 , Error:  4.426440451638346 %\n",
      "Prediction value: 412439.38125199825 , Actual value:  395000.0 , Error:  4.319675670254555 %\n",
      "Prediction value: 861189.3910528049 , Actual value:  850000.0 , Error:  1.3077910734264946 %\n",
      "Prediction value: 470286.5153495893 , Actual value:  320000.0 , Error:  38.033425202278416 %\n",
      "Prediction value: 676326.3885754719 , Actual value:  350000.0 , Error:  63.59115232892118 %\n",
      "Prediction value: 507981.3946685493 , Actual value:  500000.0 , Error:  1.5836392835750288 %\n",
      "Prediction value: 659534.8904292136 , Actual value:  550000.0 , Error:  18.111902566174717 %\n",
      "Prediction value: 476783.81213273853 , Actual value:  550000.0 , Error:  14.261266490982889 %\n",
      "Prediction value: 300528.1391037479 , Actual value:  450000.0 , Error:  39.831114413577005 %\n",
      "Prediction value: 579575.9750509188 , Actual value:  295000.0 , Error:  65.077473694461 %\n",
      "Prediction value: 498666.7660388723 , Actual value:  620000.0 , Error:  21.6924713676372 %\n",
      "Prediction value: 753413.3407630995 , Actual value:  750000.0 , Error:  0.4540788179206864 %\n",
      "Prediction value: 260290.25835377723 , Actual value:  250000.0 , Error:  4.033100058376241 %\n",
      "Prediction value: 979609.0272991732 , Actual value:  600000.0 , Error:  48.06366901412705 %\n",
      "Prediction value: 314811.95094970614 , Actual value:  645000.0 , Error:  68.80265425400931 %\n",
      "Prediction value: 818164.5113605186 , Actual value:  825000.0 , Error:  0.8319907826906109 %\n",
      "Prediction value: 713195.9031487331 , Actual value:  735000.0 , Error:  3.0112081941206252 %\n",
      "Prediction value: 348200.9736961201 , Actual value:  375000.0 , Error:  7.411225172144342 %\n",
      "Prediction value: 299171.9537801668 , Actual value:  439000.0 , Error:  37.884952280773064 %\n",
      "Prediction value: 316052.0347216651 , Actual value:  415000.0 , Error:  27.07001980126013 %\n",
      "Prediction value: 1606074.5413126498 , Actual value:  1495000.0 , Error:  7.163616342200743 %\n",
      "Prediction value: 657609.0830203593 , Actual value:  350000.0 , Error:  61.05722709411977 %\n",
      "Prediction value: 477637.4838073328 , Actual value:  600000.0 , Error:  22.709402379055323 %\n",
      "Prediction value: 850460.4855781198 , Actual value:  650000.0 , Error:  26.719862003014807 %\n",
      "Prediction value: 325036.54633360356 , Actual value:  225000.0 , Error:  36.37450893051395 %\n",
      "Prediction value: 655318.2708430514 , Actual value:  500000.0 , Error:  26.887529568750526 %\n",
      "Prediction value: 690465.7357660383 , Actual value:  729000.0 , Error:  5.429403931778043 %\n",
      "Prediction value: 743467.8616020009 , Actual value:  700000.0 , Error:  6.0226989125700445 %\n",
      "Prediction value: 974995.4574544728 , Actual value:  1300000.0 , Error:  28.57188496623899 %\n",
      "Prediction value: 822495.8701047599 , Actual value:  875000.0 , Error:  6.186068646164047 %\n",
      "Prediction value: 409225.6375559345 , Actual value:  395000.0 , Error:  3.537722970177032 %\n",
      "Prediction value: 535009.0852882043 , Actual value:  350000.0 , Error:  41.80953356607765 %\n",
      "Prediction value: 184627.81136198342 , Actual value:  285000.0 , Error:  42.74541933405682 %\n",
      "Accuracy Score:  0.9321369359025031\n"
     ]
    }
   ],
   "source": [
    "predictions = lin_reg.predict(x_test)\n",
    "for i in range (len(predictions)):\n",
    "    print(\"Prediction value:\", predictions[i], \", Actual value: \", y_test[i], \", Error: \", \n",
    "          (200 * abs(predictions[i] - y_test[i]))/(predictions[i] + y_test[i]), \"%\")\n",
    "print(\"Accuracy Score: \", lin_reg.score(x_test, y_test))"
   ]
  },
  {
   "cell_type": "code",
   "execution_count": null,
   "id": "03a516bf",
   "metadata": {},
   "outputs": [],
   "source": []
  }
 ],
 "metadata": {
  "kernelspec": {
   "display_name": "Python 3 (ipykernel)",
   "language": "python",
   "name": "python3"
  },
  "language_info": {
   "codemirror_mode": {
    "name": "ipython",
    "version": 3
   },
   "file_extension": ".py",
   "mimetype": "text/x-python",
   "name": "python",
   "nbconvert_exporter": "python",
   "pygments_lexer": "ipython3",
   "version": "3.9.7"
  }
 },
 "nbformat": 4,
 "nbformat_minor": 5
}
